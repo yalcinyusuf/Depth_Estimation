{
 "cells": [
  {
   "cell_type": "code",
   "execution_count": 1,
   "metadata": {},
   "outputs": [],
   "source": [
    "import cv2\n",
    "import numpy as np"
   ]
  },
  {
   "cell_type": "code",
   "execution_count": 2,
   "metadata": {},
   "outputs": [],
   "source": [
    "model_path = \"model/model-f6b98070.onnx\"\n",
    "model = cv2.dnn.readNet(model_path)\n",
    "c = (123.675, 116.28, 103.53)"
   ]
  },
  {
   "cell_type": "code",
   "execution_count": 3,
   "metadata": {},
   "outputs": [],
   "source": [
    "#cap = cv2.VideoCapture(0) # video --> cv2.VideoCapture(\"video_path\")\n",
    "cap = cv2.VideoCapture(\"test_2Kelly.mp4\")\n",
    "while True:\n",
    "    ret, frame = cap.read()\n",
    "    \n",
    "    if ret == False:\n",
    "        break\n",
    "        \n",
    "    img = cv2.cvtColor(frame, cv2.COLOR_BGR2RGB)\n",
    "    blob = cv2.dnn.blobFromImage(img, 1/255., (384, 384), c, True, False)\n",
    "    \n",
    "    model.setInput(blob)\n",
    "    output = model.forward()\n",
    "    \n",
    "    output = output[0,:,:]\n",
    "    output = cv2.resize(output, (img.shape[1], img.shape[0]))\n",
    "    \n",
    "    depth = cv2.normalize(output, None, 0, 1, norm_type=cv2.NORM_MINMAX, dtype=cv2.CV_32F)\n",
    "    \n",
    "    cv2.imshow(\"Test\", frame)\n",
    "    cv2.imshow(\"Prediction\", depth)\n",
    "    \n",
    "    if cv2.waitKey(10) & 0xFF==ord(\"q\"):\n",
    "        break\n",
    "        \n",
    "cap.release()\n",
    "cv2.destroyAllWindows()   \n"
   ]
  }
 ],
 "metadata": {
  "kernelspec": {
   "display_name": "Python 3",
   "language": "python",
   "name": "python3"
  },
  "language_info": {
   "codemirror_mode": {
    "name": "ipython",
    "version": 3
   },
   "file_extension": ".py",
   "mimetype": "text/x-python",
   "name": "python",
   "nbconvert_exporter": "python",
   "pygments_lexer": "ipython3",
   "version": "3.8.5"
  }
 },
 "nbformat": 4,
 "nbformat_minor": 5
}
